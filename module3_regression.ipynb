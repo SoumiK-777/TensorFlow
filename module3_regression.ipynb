{
  "cells": [
    {
      "cell_type": "code",
      "execution_count": 1,
      "metadata": {
        "id": "9yVXro8Bhsjs"
      },
      "outputs": [
        {
          "name": "stderr",
          "output_type": "stream",
          "text": [
            "2023-03-28 03:09:21.765385: I tensorflow/core/platform/cpu_feature_guard.cc:193] This TensorFlow binary is optimized with oneAPI Deep Neural Network Library (oneDNN) to use the following CPU instructions in performance-critical operations:  AVX2 FMA\n",
            "To enable them in other operations, rebuild TensorFlow with the appropriate compiler flags.\n",
            "2023-03-28 03:09:23.075471: W tensorflow/compiler/xla/stream_executor/platform/default/dso_loader.cc:64] Could not load dynamic library 'libnvinfer.so.7'; dlerror: libnvinfer.so.7: cannot open shared object file: No such file or directory; LD_LIBRARY_PATH: :/home/soumik/anaconda3/pkgs/cuda-nvcc\n",
            "2023-03-28 03:09:23.075580: W tensorflow/compiler/xla/stream_executor/platform/default/dso_loader.cc:64] Could not load dynamic library 'libnvinfer_plugin.so.7'; dlerror: libnvinfer_plugin.so.7: cannot open shared object file: No such file or directory; LD_LIBRARY_PATH: :/home/soumik/anaconda3/pkgs/cuda-nvcc\n",
            "2023-03-28 03:09:23.075587: W tensorflow/compiler/tf2tensorrt/utils/py_utils.cc:38] TF-TRT Warning: Cannot dlopen some TensorRT libraries. If you would like to use Nvidia GPU with TensorRT, please make sure the missing libraries mentioned above are installed properly.\n"
          ]
        }
      ],
      "source": [
        "import tensorflow as tf"
      ]
    },
    {
      "cell_type": "code",
      "execution_count": 2,
      "metadata": {
        "id": "g4iVbOekhsjt"
      },
      "outputs": [],
      "source": [
        "import numpy as np\n",
        "import matplotlib.pyplot as plt\n",
        "%matplotlib inline"
      ]
    },
    {
      "cell_type": "code",
      "execution_count": 3,
      "metadata": {
        "colab": {
          "base_uri": "https://localhost:8080/",
          "height": 269
        },
        "id": "H4imQrzyhsju",
        "outputId": "0f60e105-5f09-49ea-a7f0-b25e59e65035"
      },
      "outputs": [
        {
          "name": "stderr",
          "output_type": "stream",
          "text": [
            "2023-03-28 03:09:25.231123: I tensorflow/compiler/xla/stream_executor/cuda/cuda_gpu_executor.cc:981] successful NUMA node read from SysFS had negative value (-1), but there must be at least one NUMA node, so returning NUMA node zero\n",
            "2023-03-28 03:09:25.452266: I tensorflow/compiler/xla/stream_executor/cuda/cuda_gpu_executor.cc:981] successful NUMA node read from SysFS had negative value (-1), but there must be at least one NUMA node, so returning NUMA node zero\n",
            "2023-03-28 03:09:25.452444: I tensorflow/compiler/xla/stream_executor/cuda/cuda_gpu_executor.cc:981] successful NUMA node read from SysFS had negative value (-1), but there must be at least one NUMA node, so returning NUMA node zero\n",
            "2023-03-28 03:09:25.454249: I tensorflow/core/platform/cpu_feature_guard.cc:193] This TensorFlow binary is optimized with oneAPI Deep Neural Network Library (oneDNN) to use the following CPU instructions in performance-critical operations:  AVX2 FMA\n",
            "To enable them in other operations, rebuild TensorFlow with the appropriate compiler flags.\n",
            "2023-03-28 03:09:25.455685: I tensorflow/compiler/xla/stream_executor/cuda/cuda_gpu_executor.cc:981] successful NUMA node read from SysFS had negative value (-1), but there must be at least one NUMA node, so returning NUMA node zero\n",
            "2023-03-28 03:09:25.455827: I tensorflow/compiler/xla/stream_executor/cuda/cuda_gpu_executor.cc:981] successful NUMA node read from SysFS had negative value (-1), but there must be at least one NUMA node, so returning NUMA node zero\n",
            "2023-03-28 03:09:25.455947: I tensorflow/compiler/xla/stream_executor/cuda/cuda_gpu_executor.cc:981] successful NUMA node read from SysFS had negative value (-1), but there must be at least one NUMA node, so returning NUMA node zero\n",
            "2023-03-28 03:09:26.219774: I tensorflow/compiler/xla/stream_executor/cuda/cuda_gpu_executor.cc:981] successful NUMA node read from SysFS had negative value (-1), but there must be at least one NUMA node, so returning NUMA node zero\n",
            "2023-03-28 03:09:26.220190: I tensorflow/compiler/xla/stream_executor/cuda/cuda_gpu_executor.cc:981] successful NUMA node read from SysFS had negative value (-1), but there must be at least one NUMA node, so returning NUMA node zero\n",
            "2023-03-28 03:09:26.220312: I tensorflow/compiler/xla/stream_executor/cuda/cuda_gpu_executor.cc:981] successful NUMA node read from SysFS had negative value (-1), but there must be at least one NUMA node, so returning NUMA node zero\n",
            "2023-03-28 03:09:26.220572: I tensorflow/core/common_runtime/gpu/gpu_device.cc:1613] Created device /job:localhost/replica:0/task:0/device:GPU:0 with 2631 MB memory:  -> device: 0, name: NVIDIA GeForce GTX 1650, pci bus id: 0000:01:00.0, compute capability: 7.5\n"
          ]
        },
        {
          "data": {
            "image/png": "[encoded data removed]",
            "text/plain": [
              "<Figure size 640x480 with 1 Axes>"
            ]
          },
          "metadata": {},
          "output_type": "display_data"
        }
      ],
      "source": [
        "import numpy as np\n",
        "import matplotlib.pyplot as plt\n",
        "\n",
        "# Create features (using tensors)\n",
        "X = tf.constant([-7.0, -4.0, -1.0, 2.0, 5.0, 8.0, 11.0, 14.0])\n",
        "\n",
        "# Create labels (using tensors)\n",
        "y = tf.constant([3.0, 6.0, 9.0, 12.0, 15.0, 18.0, 21.0, 24.0])\n",
        "\n",
        "# Visualize it\n",
        "plt.scatter(X, y);"
      ]
    },
    {
      "cell_type": "code",
      "execution_count": 4,
      "metadata": {
        "colab": {
          "base_uri": "https://localhost:8080/"
        },
        "id": "wECCwhFohsjv",
        "outputId": "d8560df2-edc8-414d-c2d9-10dc4af2227a"
      },
      "outputs": [
        {
          "data": {
            "text/plain": [
              "(<tf.Tensor: shape=(8, 1), dtype=float32, numpy=\n",
              " array([[-7.],\n",
              "        [-4.],\n",
              "        [-1.],\n",
              "        [ 2.],\n",
              "        [ 5.],\n",
              "        [ 8.],\n",
              "        [11.],\n",
              "        [14.]], dtype=float32)>,\n",
              " <tf.Tensor: shape=(8,), dtype=float32, numpy=array([ 3.,  6.,  9., 12., 15., 18., 21., 24.], dtype=float32)>)"
            ]
          },
          "execution_count": 4,
          "metadata": {},
          "output_type": "execute_result"
        }
      ],
      "source": [
        "X=tf.expand_dims(X,axis=-1)\n",
        "# y=tf.expand_dims(y,axis=0)\n",
        "X,y"
      ]
    },
    {
      "cell_type": "code",
      "execution_count": 5,
      "metadata": {
        "colab": {
          "base_uri": "https://localhost:8080/"
        },
        "id": "iCdsjSE5hsjx",
        "outputId": "e312a929-ce66-41b7-c77b-fae4cc69a1ae"
      },
      "outputs": [
        {
          "name": "stdout",
          "output_type": "stream",
          "text": [
            "Epoch 1/50\n"
          ]
        },
        {
          "name": "stderr",
          "output_type": "stream",
          "text": [
            "2023-03-28 03:09:28.428851: I tensorflow/compiler/xla/service/service.cc:173] XLA service 0x561f3a6946b0 initialized for platform CUDA (this does not guarantee that XLA will be used). Devices:\n",
            "2023-03-28 03:09:28.428888: I tensorflow/compiler/xla/service/service.cc:181]   StreamExecutor device (0): NVIDIA GeForce GTX 1650, Compute Capability 7.5\n"
          ]
        },
        {
          "name": "stdout",
          "output_type": "stream",
          "text": [
            "1/1 [==============================] - 2s 2s/step - loss: 17.8792 - mae: 17.8792\n",
            "Epoch 2/50\n",
            "1/1 [==============================] - 0s 3ms/step - loss: 17.5979 - mae: 17.5979\n",
            "Epoch 3/50\n",
            "1/1 [==============================] - 0s 4ms/step - loss: 17.3167 - mae: 17.3167\n",
            "Epoch 4/50\n",
            "1/1 [==============================] - 0s 5ms/step - loss: 17.0354 - mae: 17.0354\n",
            "Epoch 5/50\n",
            "1/1 [==============================] - 0s 4ms/step - loss: 16.7542 - mae: 16.7542\n",
            "Epoch 6/50\n",
            "1/1 [==============================] - 0s 5ms/step - loss: 16.4729 - mae: 16.4729\n",
            "Epoch 7/50\n",
            "1/1 [==============================] - 0s 6ms/step - loss: 16.1917 - mae: 16.1917\n",
            "Epoch 8/50\n",
            "1/1 [==============================] - 0s 6ms/step - loss: 15.9104 - mae: 15.9104\n",
            "Epoch 9/50\n",
            "1/1 [==============================] - 0s 6ms/step - loss: 15.6292 - mae: 15.6292\n",
            "Epoch 10/50\n",
            "1/1 [==============================] - 0s 8ms/step - loss: 15.3479 - mae: 15.3479\n",
            "Epoch 11/50\n",
            "1/1 [==============================] - 0s 6ms/step - loss: 15.0667 - mae: 15.0667\n",
            "Epoch 12/50\n",
            "1/1 [==============================] - 0s 6ms/step - loss: 14.8157 - mae: 14.8157\n",
            "Epoch 13/50\n",
            "1/1 [==============================] - 0s 5ms/step - loss: 14.6832 - mae: 14.6832\n",
            "Epoch 14/50\n",
            "1/1 [==============================] - 0s 6ms/step - loss: 14.5507 - mae: 14.5507\n",
            "Epoch 15/50\n",
            "1/1 [==============================] - 0s 7ms/step - loss: 14.4182 - mae: 14.4182\n",
            "Epoch 16/50\n",
            "1/1 [==============================] - 0s 5ms/step - loss: 14.2857 - mae: 14.2857\n",
            "Epoch 17/50\n",
            "1/1 [==============================] - 0s 5ms/step - loss: 14.1532 - mae: 14.1532\n",
            "Epoch 18/50\n",
            "1/1 [==============================] - 0s 6ms/step - loss: 14.0207 - mae: 14.0207\n",
            "Epoch 19/50\n",
            "1/1 [==============================] - 0s 6ms/step - loss: 13.8882 - mae: 13.8882\n",
            "Epoch 20/50\n",
            "1/1 [==============================] - 0s 4ms/step - loss: 13.7557 - mae: 13.7557\n",
            "Epoch 21/50\n",
            "1/1 [==============================] - 0s 3ms/step - loss: 13.6232 - mae: 13.6232\n",
            "Epoch 22/50\n",
            "1/1 [==============================] - 0s 5ms/step - loss: 13.4907 - mae: 13.4907\n",
            "Epoch 23/50\n",
            "1/1 [==============================] - 0s 6ms/step - loss: 13.3582 - mae: 13.3582\n",
            "Epoch 24/50\n",
            "1/1 [==============================] - 0s 4ms/step - loss: 13.2257 - mae: 13.2257\n",
            "Epoch 25/50\n",
            "1/1 [==============================] - 0s 4ms/step - loss: 13.0932 - mae: 13.0932\n",
            "Epoch 26/50\n",
            "1/1 [==============================] - 0s 4ms/step - loss: 12.9607 - mae: 12.9607\n",
            "Epoch 27/50\n",
            "1/1 [==============================] - 0s 4ms/step - loss: 12.8282 - mae: 12.8282\n",
            "Epoch 28/50\n"
          ]
        },
        {
          "name": "stderr",
          "output_type": "stream",
          "text": [
            "2023-03-28 03:09:28.945167: I tensorflow/compiler/jit/xla_compilation_cache.cc:477] Compiled cluster using XLA!  This line is logged at most once for the lifetime of the process.\n"
          ]
        },
        {
          "name": "stdout",
          "output_type": "stream",
          "text": [
            "1/1 [==============================] - 0s 4ms/step - loss: 12.6957 - mae: 12.6957\n",
            "Epoch 29/50\n",
            "1/1 [==============================] - 0s 3ms/step - loss: 12.5632 - mae: 12.5632\n",
            "Epoch 30/50\n",
            "1/1 [==============================] - 0s 6ms/step - loss: 12.4307 - mae: 12.4307\n",
            "Epoch 31/50\n",
            "1/1 [==============================] - 0s 5ms/step - loss: 12.2982 - mae: 12.2982\n",
            "Epoch 32/50\n",
            "1/1 [==============================] - 0s 4ms/step - loss: 12.1657 - mae: 12.1657\n",
            "Epoch 33/50\n",
            "1/1 [==============================] - 0s 4ms/step - loss: 12.0332 - mae: 12.0332\n",
            "Epoch 34/50\n",
            "1/1 [==============================] - 0s 5ms/step - loss: 11.9007 - mae: 11.9007\n",
            "Epoch 35/50\n",
            "1/1 [==============================] - 0s 7ms/step - loss: 11.7682 - mae: 11.7682\n",
            "Epoch 36/50\n",
            "1/1 [==============================] - 0s 5ms/step - loss: 11.6357 - mae: 11.6357\n",
            "Epoch 37/50\n",
            "1/1 [==============================] - 0s 6ms/step - loss: 11.5032 - mae: 11.5032\n",
            "Epoch 38/50\n",
            "1/1 [==============================] - 0s 6ms/step - loss: 11.3707 - mae: 11.3707\n",
            "Epoch 39/50\n",
            "1/1 [==============================] - 0s 7ms/step - loss: 11.2382 - mae: 11.2382\n",
            "Epoch 40/50\n",
            "1/1 [==============================] - 0s 5ms/step - loss: 11.1057 - mae: 11.1057\n",
            "Epoch 41/50\n",
            "1/1 [==============================] - 0s 5ms/step - loss: 10.9732 - mae: 10.9732\n",
            "Epoch 42/50\n",
            "1/1 [==============================] - 0s 5ms/step - loss: 10.8407 - mae: 10.8407\n",
            "Epoch 43/50\n",
            "1/1 [==============================] - 0s 4ms/step - loss: 10.7082 - mae: 10.7082\n",
            "Epoch 44/50\n",
            "1/1 [==============================] - 0s 4ms/step - loss: 10.5757 - mae: 10.5757\n",
            "Epoch 45/50\n",
            "1/1 [==============================] - 0s 4ms/step - loss: 10.4432 - mae: 10.4432\n",
            "Epoch 46/50\n",
            "1/1 [==============================] - 0s 4ms/step - loss: 10.3107 - mae: 10.3107\n",
            "Epoch 47/50\n",
            "1/1 [==============================] - 0s 5ms/step - loss: 10.1782 - mae: 10.1782\n",
            "Epoch 48/50\n",
            "1/1 [==============================] - 0s 5ms/step - loss: 10.0457 - mae: 10.0457\n",
            "Epoch 49/50\n",
            "1/1 [==============================] - 0s 4ms/step - loss: 9.9132 - mae: 9.9132\n",
            "Epoch 50/50\n",
            "1/1 [==============================] - 0s 3ms/step - loss: 9.7807 - mae: 9.7807\n"
          ]
        },
        {
          "data": {
            "text/plain": [
              "<keras.callbacks.History at 0x7f26d3386220>"
            ]
          },
          "execution_count": 5,
          "metadata": {},
          "output_type": "execute_result"
        }
      ],
      "source": [
        "\n",
        "# Set random seed\n",
        "tf.random.set_seed(42)\n",
        "\n",
        "# Create a model using the Sequential API\n",
        "model = tf.keras.Sequential([\n",
        "  tf.keras.layers.Dense(1)\n",
        "])\n",
        "\n",
        "# Compile the model\n",
        "model.compile(loss=tf.keras.losses.mae, # mae is short for mean absolute error\n",
        "              optimizer=tf.keras.optimizers.SGD(), # SGD is short for stochastic gradient descent\n",
        "              metrics=[\"mae\"])\n",
        "\n",
        "# Fit the model\n",
        "# model.fit(X, y, epochs=5) # this will break with TensorFlow 2.7.0+\n",
        "model.fit(X, y, epochs=50)"
      ]
    },
    {
      "cell_type": "code",
      "execution_count": 6,
      "metadata": {
        "colab": {
          "base_uri": "https://localhost:8080/"
        },
        "id": "wdim9h_khsjx",
        "outputId": "68776578-221f-4c88-f435-bb40e706b5b8"
      },
      "outputs": [
        {
          "name": "stdout",
          "output_type": "stream",
          "text": [
            "2.11.0\n"
          ]
        }
      ],
      "source": [
        "print(tf.__version__)"
      ]
    },
    {
      "cell_type": "code",
      "execution_count": 7,
      "metadata": {
        "colab": {
          "base_uri": "https://localhost:8080/"
        },
        "id": "bdlrbFx4hsjy",
        "outputId": "2863457d-2a37-4dfb-997f-6d348e18e898"
      },
      "outputs": [
        {
          "name": "stdout",
          "output_type": "stream",
          "text": [
            "1/1 [==============================] - 0s 54ms/step\n"
          ]
        },
        {
          "data": {
            "text/plain": [
              "array([[16.886211]], dtype=float32)"
            ]
          },
          "execution_count": 7,
          "metadata": {},
          "output_type": "execute_result"
        }
      ],
      "source": [
        "model.predict([17.0])"
      ]
    },
    {
      "cell_type": "code",
      "execution_count": 1,
      "metadata": {
        "colab": {
          "base_uri": "https://localhost:8080/"
        },
        "id": "GQ-jrTu4hsjy",
        "outputId": "27f1b3b5-90fe-4782-942f-338ab4358d28"
      },
      "outputs": [
        {
          "ename": "NameError",
          "evalue": "name 'tf' is not defined",
          "output_type": "error",
          "traceback": [
            "\u001b[0;31m---------------------------------------------------------------------------\u001b[0m",
            "\u001b[0;31mNameError\u001b[0m                                 Traceback (most recent call last)",
            "Cell \u001b[0;32mIn[1], line 1\u001b[0m\n\u001b[0;32m----> 1\u001b[0m tf\u001b[39m.\u001b[39mrandom\u001b[39m.\u001b[39mset_seed(\u001b[39m42\u001b[39m)\n\u001b[1;32m      3\u001b[0m model \u001b[39m=\u001b[39m tf\u001b[39m.\u001b[39mkeras\u001b[39m.\u001b[39mSequential([\n\u001b[1;32m      4\u001b[0m   tf\u001b[39m.\u001b[39mkeras\u001b[39m.\u001b[39mlayers\u001b[39m.\u001b[39mDense(\u001b[39m100\u001b[39m,activation\u001b[39m=\u001b[39m\u001b[39m'\u001b[39m\u001b[39mrelu\u001b[39m\u001b[39m'\u001b[39m),\n\u001b[1;32m      5\u001b[0m   tf\u001b[39m.\u001b[39mkeras\u001b[39m.\u001b[39mlayers\u001b[39m.\u001b[39mDense(\u001b[39m100\u001b[39m,activation\u001b[39m=\u001b[39m\u001b[39m'\u001b[39m\u001b[39mrelu\u001b[39m\u001b[39m'\u001b[39m),\n\u001b[1;32m      6\u001b[0m   tf\u001b[39m.\u001b[39mkeras\u001b[39m.\u001b[39mlayers\u001b[39m.\u001b[39mDense(\u001b[39m100\u001b[39m,activation\u001b[39m=\u001b[39m\u001b[39m'\u001b[39m\u001b[39mrelu\u001b[39m\u001b[39m'\u001b[39m),\n\u001b[1;32m      7\u001b[0m   tf\u001b[39m.\u001b[39mkeras\u001b[39m.\u001b[39mlayers\u001b[39m.\u001b[39mDense(\u001b[39m1\u001b[39m)\n\u001b[1;32m      8\u001b[0m ])\n\u001b[1;32m     10\u001b[0m model\u001b[39m.\u001b[39mcompile(loss\u001b[39m=\u001b[39mtf\u001b[39m.\u001b[39mkeras\u001b[39m.\u001b[39mlosses\u001b[39m.\u001b[39mmae,\n\u001b[1;32m     11\u001b[0m               optimizer\u001b[39m=\u001b[39mtf\u001b[39m.\u001b[39mkeras\u001b[39m.\u001b[39moptimizers\u001b[39m.\u001b[39mAdam(learning_rate\u001b[39m=\u001b[39m\u001b[39m0.03\u001b[39m),\n\u001b[1;32m     12\u001b[0m               metrics\u001b[39m=\u001b[39m[\u001b[39m\"\u001b[39m\u001b[39mmae\u001b[39m\u001b[39m\"\u001b[39m])\n",
            "\u001b[0;31mNameError\u001b[0m: name 'tf' is not defined"
          ]
        }
      ],
      "source": [
        "tf.random.set_seed(42)\n",
        "\n",
        "model = tf.keras.Sequential([\n",
        "  tf.keras.layers.Dense(100,activation='relu'),\n",
        "  tf.keras.layers.Dense(100,activation='relu'),\n",
        "  tf.keras.layers.Dense(100,activation='relu'),\n",
        "  tf.keras.layers.Dense(1)\n",
        "])\n",
        "\n",
        "model.compile(loss=tf.keras.losses.mae,\n",
        "              optimizer=tf.keras.optimizers.Adam(learning_rate=0.03),\n",
        "              metrics=[\"mae\"])\n",
        "\n",
        "model.fit(X, y, epochs=100)"
      ]
    },
    {
      "cell_type": "code",
      "execution_count": 9,
      "metadata": {
        "colab": {
          "base_uri": "https://localhost:8080/"
        },
        "id": "eo81Vu1Whsjz",
        "outputId": "9f03ed90-3542-4a1f-d6c7-146243814800"
      },
      "outputs": [
        {
          "name": "stdout",
          "output_type": "stream",
          "text": [
            "1/1 [==============================] - 0s 50ms/step\n"
          ]
        },
        {
          "data": {
            "text/plain": [
              "array([[25.412659]], dtype=float32)"
            ]
          },
          "execution_count": 9,
          "metadata": {},
          "output_type": "execute_result"
        }
      ],
      "source": [
        "y_pred=model.predict([17.0])\n",
        "y_pred"
      ]
    },
    {
      "cell_type": "code",
      "execution_count": 10,
      "metadata": {
        "colab": {
          "base_uri": "https://localhost:8080/"
        },
        "id": "Illj0hochsj0",
        "outputId": "3b951f08-1128-4d1e-c8ce-9c2e8816fe7f"
      },
      "outputs": [
        {
          "data": {
            "text/plain": [
              "(<tf.Tensor: shape=(50,), dtype=int32, numpy=\n",
              " array([-100,  -96,  -92,  -88,  -84,  -80,  -76,  -72,  -68,  -64,  -60,\n",
              "         -56,  -52,  -48,  -44,  -40,  -36,  -32,  -28,  -24,  -20,  -16,\n",
              "         -12,   -8,   -4,    0,    4,    8,   12,   16,   20,   24,   28,\n",
              "          32,   36,   40,   44,   48,   52,   56,   60,   64,   68,   72,\n",
              "          76,   80,   84,   88,   92,   96], dtype=int32)>,\n",
              " <tf.Tensor: shape=(50,), dtype=int32, numpy=\n",
              " array([-90, -86, -82, -78, -74, -70, -66, -62, -58, -54, -50, -46, -42,\n",
              "        -38, -34, -30, -26, -22, -18, -14, -10,  -6,  -2,   2,   6,  10,\n",
              "         14,  18,  22,  26,  30,  34,  38,  42,  46,  50,  54,  58,  62,\n",
              "         66,  70,  74,  78,  82,  86,  90,  94,  98, 102, 106], dtype=int32)>)"
            ]
          },
          "execution_count": 10,
          "metadata": {},
          "output_type": "execute_result"
        }
      ],
      "source": [
        "X=tf.range(-100,100,4)\n",
        "y=X+10\n",
        "X,y"
      ]
    },
    {
      "cell_type": "code",
      "execution_count": 11,
      "metadata": {
        "colab": {
          "base_uri": "https://localhost:8080/",
          "height": 282
        },
        "id": "hzyjg5wzhsj1",
        "outputId": "cbd180a5-6a55-4408-dece-48d65fe52536"
      },
      "outputs": [
        {
          "data": {
            "text/plain": [
              "<matplotlib.collections.PathCollection at 0x7f26d028d730>"
            ]
          },
          "execution_count": 11,
          "metadata": {},
          "output_type": "execute_result"
        },
        {
          "data": {
            "image/png": "[encoded data removed]",
            "text/plain": [
              "<Figure size 640x480 with 1 Axes>"
            ]
          },
          "metadata": {},
          "output_type": "display_data"
        }
      ],
      "source": [
        "plt.scatter(X,y)"
      ]
    },
    {
      "cell_type": "code",
      "execution_count": 12,
      "metadata": {
        "colab": {
          "base_uri": "https://localhost:8080/"
        },
        "id": "N14Ea3dJhsj1",
        "outputId": "19d3725a-9250-4466-85cf-60dbab32ad41"
      },
      "outputs": [
        {
          "data": {
            "text/plain": [
              "(<tf.Tensor: shape=(40,), dtype=int32, numpy=\n",
              " array([-100,  -96,  -92,  -88,  -84,  -80,  -76,  -72,  -68,  -64,  -60,\n",
              "         -56,  -52,  -48,  -44,  -40,  -36,  -32,  -28,  -24,  -20,  -16,\n",
              "         -12,   -8,   -4,    0,    4,    8,   12,   16,   20,   24,   28,\n",
              "          32,   36,   40,   44,   48,   52,   56], dtype=int32)>,\n",
              " <tf.Tensor: shape=(10,), dtype=int32, numpy=array([60, 64, 68, 72, 76, 80, 84, 88, 92, 96], dtype=int32)>,\n",
              " <tf.Tensor: shape=(40,), dtype=int32, numpy=\n",
              " array([-90, -86, -82, -78, -74, -70, -66, -62, -58, -54, -50, -46, -42,\n",
              "        -38, -34, -30, -26, -22, -18, -14, -10,  -6,  -2,   2,   6,  10,\n",
              "         14,  18,  22,  26,  30,  34,  38,  42,  46,  50,  54,  58,  62,\n",
              "         66], dtype=int32)>,\n",
              " <tf.Tensor: shape=(10,), dtype=int32, numpy=array([ 70,  74,  78,  82,  86,  90,  94,  98, 102, 106], dtype=int32)>)"
            ]
          },
          "execution_count": 12,
          "metadata": {},
          "output_type": "execute_result"
        }
      ],
      "source": [
        "X_train=X[:40]\n",
        "X_test=X[40:]\n",
        "y_train=y[:40]\n",
        "y_test=y[40:]\n",
        "X_train, X_test, y_train, y_test"
      ]
    },
    {
      "cell_type": "code",
      "execution_count": 13,
      "metadata": {
        "colab": {
          "base_uri": "https://localhost:8080/",
          "height": 445
        },
        "id": "u0bE4gu5wtLu",
        "outputId": "8fe81523-8035-4cc6-eafd-7e1042e0f628"
      },
      "outputs": [
        {
          "data": {
            "text/plain": [
              "<matplotlib.legend.Legend at 0x7f26d01c9100>"
            ]
          },
          "execution_count": 13,
          "metadata": {},
          "output_type": "execute_result"
        },
        {
          "data": {
            "image/png": "[encoded data removed]",
            "text/plain": [
              "<Figure size 1000x700 with 1 Axes>"
            ]
          },
          "metadata": {},
          "output_type": "display_data"
        }
      ],
      "source": [
        "plt.figure(figsize=(10,7))\n",
        "plt.scatter(X_train,y_train,c='r',label='Training Data')\n",
        "plt.scatter(X_test,y_test,c='g',label='Testing Data')\n",
        "plt.legend()"
      ]
    },
    {
      "cell_type": "code",
      "execution_count": 14,
      "metadata": {
        "colab": {
          "base_uri": "https://localhost:8080/"
        },
        "id": "vQn5B6Aawt6J",
        "outputId": "1862989a-e0fb-4638-e137-6aaca43e427e"
      },
      "outputs": [
        {
          "name": "stdout",
          "output_type": "stream",
          "text": [
            "Epoch 1/120\n",
            "2/2 [==============================] - 0s 3ms/step - loss: 22.6321 - mae: 22.6321\n",
            "Epoch 2/120\n",
            "2/2 [==============================] - 0s 3ms/step - loss: 18.5864 - mae: 18.5864\n",
            "Epoch 3/120\n",
            "2/2 [==============================] - 0s 3ms/step - loss: 15.1813 - mae: 15.1813\n",
            "Epoch 4/120\n",
            "2/2 [==============================] - 0s 4ms/step - loss: 12.7254 - mae: 12.7254\n",
            "Epoch 5/120\n",
            "2/2 [==============================] - 0s 4ms/step - loss: 10.6934 - mae: 10.6934\n",
            "Epoch 6/120\n",
            "2/2 [==============================] - 0s 5ms/step - loss: 8.5648 - mae: 8.5648\n",
            "Epoch 7/120\n",
            "2/2 [==============================] - 0s 4ms/step - loss: 7.1656 - mae: 7.1656\n",
            "Epoch 8/120\n",
            "2/2 [==============================] - 0s 3ms/step - loss: 8.4166 - mae: 8.4166\n",
            "Epoch 9/120\n",
            "2/2 [==============================] - 0s 4ms/step - loss: 9.0007 - mae: 9.0007\n",
            "Epoch 10/120\n",
            "2/2 [==============================] - 0s 4ms/step - loss: 8.6489 - mae: 8.6489\n",
            "Epoch 11/120\n",
            "2/2 [==============================] - 0s 4ms/step - loss: 7.7617 - mae: 7.7617\n",
            "Epoch 12/120\n",
            "2/2 [==============================] - 0s 4ms/step - loss: 6.9273 - mae: 6.9273\n",
            "Epoch 13/120\n",
            "2/2 [==============================] - 0s 3ms/step - loss: 6.9996 - mae: 6.9996\n",
            "Epoch 14/120\n",
            "2/2 [==============================] - 0s 3ms/step - loss: 7.2536 - mae: 7.2536\n",
            "Epoch 15/120\n",
            "2/2 [==============================] - 0s 4ms/step - loss: 7.0774 - mae: 7.0774\n",
            "Epoch 16/120\n",
            "2/2 [==============================] - 0s 3ms/step - loss: 6.5806 - mae: 6.5806\n",
            "Epoch 17/120\n",
            "2/2 [==============================] - 0s 3ms/step - loss: 6.6257 - mae: 6.6257\n",
            "Epoch 18/120\n",
            "2/2 [==============================] - 0s 3ms/step - loss: 6.7803 - mae: 6.7803\n",
            "Epoch 19/120\n",
            "2/2 [==============================] - 0s 3ms/step - loss: 6.7189 - mae: 6.7189\n",
            "Epoch 20/120\n",
            "2/2 [==============================] - 0s 2ms/step - loss: 6.4348 - mae: 6.4348\n",
            "Epoch 21/120\n",
            "2/2 [==============================] - 0s 3ms/step - loss: 6.2424 - mae: 6.2424\n",
            "Epoch 22/120\n",
            "2/2 [==============================] - 0s 3ms/step - loss: 6.2078 - mae: 6.2078\n",
            "Epoch 23/120\n",
            "2/2 [==============================] - 0s 3ms/step - loss: 6.2104 - mae: 6.2104\n",
            "Epoch 24/120\n",
            "2/2 [==============================] - 0s 2ms/step - loss: 6.0390 - mae: 6.0390\n",
            "Epoch 25/120\n",
            "2/2 [==============================] - 0s 2ms/step - loss: 5.9258 - mae: 5.9258\n",
            "Epoch 26/120\n",
            "2/2 [==============================] - 0s 3ms/step - loss: 5.8719 - mae: 5.8719\n",
            "Epoch 27/120\n",
            "2/2 [==============================] - 0s 2ms/step - loss: 5.7798 - mae: 5.7798\n",
            "Epoch 28/120\n",
            "2/2 [==============================] - 0s 2ms/step - loss: 5.7286 - mae: 5.7286\n",
            "Epoch 29/120\n",
            "2/2 [==============================] - 0s 3ms/step - loss: 5.6543 - mae: 5.6543\n",
            "Epoch 30/120\n",
            "2/2 [==============================] - 0s 4ms/step - loss: 5.5624 - mae: 5.5624\n",
            "Epoch 31/120\n",
            "2/2 [==============================] - 0s 2ms/step - loss: 5.5009 - mae: 5.5009\n",
            "Epoch 32/120\n",
            "2/2 [==============================] - 0s 2ms/step - loss: 5.4160 - mae: 5.4160\n",
            "Epoch 33/120\n",
            "2/2 [==============================] - 0s 3ms/step - loss: 5.3677 - mae: 5.3677\n",
            "Epoch 34/120\n",
            "2/2 [==============================] - 0s 3ms/step - loss: 5.3046 - mae: 5.3046\n",
            "Epoch 35/120\n",
            "2/2 [==============================] - 0s 2ms/step - loss: 5.2353 - mae: 5.2353\n",
            "Epoch 36/120\n",
            "2/2 [==============================] - 0s 3ms/step - loss: 5.1918 - mae: 5.1918\n",
            "Epoch 37/120\n",
            "2/2 [==============================] - 0s 3ms/step - loss: 5.2049 - mae: 5.2049\n",
            "Epoch 38/120\n",
            "2/2 [==============================] - 0s 3ms/step - loss: 5.0461 - mae: 5.0461\n",
            "Epoch 39/120\n",
            "2/2 [==============================] - 0s 2ms/step - loss: 4.9664 - mae: 4.9664\n",
            "Epoch 40/120\n",
            "2/2 [==============================] - 0s 3ms/step - loss: 4.9349 - mae: 4.9349\n",
            "Epoch 41/120\n",
            "2/2 [==============================] - 0s 3ms/step - loss: 4.7715 - mae: 4.7715\n",
            "Epoch 42/120\n",
            "2/2 [==============================] - 0s 4ms/step - loss: 4.7324 - mae: 4.7324\n",
            "Epoch 43/120\n",
            "2/2 [==============================] - 0s 2ms/step - loss: 4.6762 - mae: 4.6762\n",
            "Epoch 44/120\n",
            "2/2 [==============================] - 0s 3ms/step - loss: 4.5990 - mae: 4.5990\n",
            "Epoch 45/120\n",
            "2/2 [==============================] - 0s 3ms/step - loss: 4.4839 - mae: 4.4839\n",
            "Epoch 46/120\n",
            "2/2 [==============================] - 0s 3ms/step - loss: 4.4270 - mae: 4.4270\n",
            "Epoch 47/120\n",
            "2/2 [==============================] - 0s 4ms/step - loss: 4.3896 - mae: 4.3896\n",
            "Epoch 48/120\n",
            "2/2 [==============================] - 0s 3ms/step - loss: 4.3057 - mae: 4.3057\n",
            "Epoch 49/120\n",
            "2/2 [==============================] - 0s 2ms/step - loss: 4.2061 - mae: 4.2061\n",
            "Epoch 50/120\n",
            "2/2 [==============================] - 0s 3ms/step - loss: 4.1062 - mae: 4.1062\n",
            "Epoch 51/120\n",
            "2/2 [==============================] - 0s 4ms/step - loss: 4.0610 - mae: 4.0610\n",
            "Epoch 52/120\n",
            "2/2 [==============================] - 0s 4ms/step - loss: 4.0034 - mae: 4.0034\n",
            "Epoch 53/120\n",
            "2/2 [==============================] - 0s 3ms/step - loss: 3.8831 - mae: 3.8831\n",
            "Epoch 54/120\n",
            "2/2 [==============================] - 0s 2ms/step - loss: 3.9473 - mae: 3.9473\n",
            "Epoch 55/120\n",
            "2/2 [==============================] - 0s 3ms/step - loss: 3.9936 - mae: 3.9936\n",
            "Epoch 56/120\n",
            "2/2 [==============================] - 0s 3ms/step - loss: 3.6693 - mae: 3.6693\n",
            "Epoch 57/120\n",
            "2/2 [==============================] - 0s 2ms/step - loss: 3.7900 - mae: 3.7900\n",
            "Epoch 58/120\n",
            "2/2 [==============================] - 0s 2ms/step - loss: 4.0555 - mae: 4.0555\n",
            "Epoch 59/120\n",
            "2/2 [==============================] - 0s 3ms/step - loss: 3.8304 - mae: 3.8304\n",
            "Epoch 60/120\n",
            "2/2 [==============================] - 0s 4ms/step - loss: 3.4077 - mae: 3.4077\n",
            "Epoch 61/120\n",
            "2/2 [==============================] - 0s 4ms/step - loss: 3.5182 - mae: 3.5182\n",
            "Epoch 62/120\n",
            "2/2 [==============================] - 0s 4ms/step - loss: 3.3476 - mae: 3.3476\n",
            "Epoch 63/120\n",
            "2/2 [==============================] - 0s 3ms/step - loss: 3.2494 - mae: 3.2494\n",
            "Epoch 64/120\n",
            "2/2 [==============================] - 0s 3ms/step - loss: 3.1941 - mae: 3.1941\n",
            "Epoch 65/120\n",
            "2/2 [==============================] - 0s 3ms/step - loss: 3.0162 - mae: 3.0162\n",
            "Epoch 66/120\n",
            "2/2 [==============================] - 0s 3ms/step - loss: 2.9374 - mae: 2.9374\n",
            "Epoch 67/120\n",
            "2/2 [==============================] - 0s 3ms/step - loss: 2.8631 - mae: 2.8631\n",
            "Epoch 68/120\n",
            "2/2 [==============================] - 0s 3ms/step - loss: 2.7934 - mae: 2.7934\n",
            "Epoch 69/120\n",
            "2/2 [==============================] - 0s 4ms/step - loss: 2.7246 - mae: 2.7246\n",
            "Epoch 70/120\n",
            "2/2 [==============================] - 0s 3ms/step - loss: 2.6675 - mae: 2.6675\n",
            "Epoch 71/120\n",
            "2/2 [==============================] - 0s 3ms/step - loss: 2.5707 - mae: 2.5707\n",
            "Epoch 72/120\n",
            "2/2 [==============================] - 0s 4ms/step - loss: 2.5838 - mae: 2.5838\n",
            "Epoch 73/120\n",
            "2/2 [==============================] - 0s 3ms/step - loss: 2.4519 - mae: 2.4519\n",
            "Epoch 74/120\n",
            "2/2 [==============================] - 0s 3ms/step - loss: 2.3576 - mae: 2.3576\n",
            "Epoch 75/120\n",
            "2/2 [==============================] - 0s 3ms/step - loss: 2.2745 - mae: 2.2745\n",
            "Epoch 76/120\n",
            "2/2 [==============================] - 0s 4ms/step - loss: 2.1996 - mae: 2.1996\n",
            "Epoch 77/120\n",
            "2/2 [==============================] - 0s 3ms/step - loss: 2.1586 - mae: 2.1586\n",
            "Epoch 78/120\n",
            "2/2 [==============================] - 0s 4ms/step - loss: 2.0419 - mae: 2.0419\n",
            "Epoch 79/120\n",
            "2/2 [==============================] - 0s 4ms/step - loss: 1.9778 - mae: 1.9778\n",
            "Epoch 80/120\n",
            "2/2 [==============================] - 0s 3ms/step - loss: 1.9041 - mae: 1.9041\n",
            "Epoch 81/120\n",
            "2/2 [==============================] - 0s 3ms/step - loss: 1.9036 - mae: 1.9036\n",
            "Epoch 82/120\n",
            "2/2 [==============================] - 0s 3ms/step - loss: 1.7747 - mae: 1.7747\n",
            "Epoch 83/120\n",
            "2/2 [==============================] - 0s 4ms/step - loss: 1.7229 - mae: 1.7229\n",
            "Epoch 84/120\n",
            "2/2 [==============================] - 0s 2ms/step - loss: 1.6057 - mae: 1.6057\n",
            "Epoch 85/120\n",
            "2/2 [==============================] - 0s 2ms/step - loss: 1.5329 - mae: 1.5329\n",
            "Epoch 86/120\n",
            "2/2 [==============================] - 0s 3ms/step - loss: 1.4916 - mae: 1.4916\n",
            "Epoch 87/120\n",
            "2/2 [==============================] - 0s 3ms/step - loss: 1.3377 - mae: 1.3377\n",
            "Epoch 88/120\n",
            "2/2 [==============================] - 0s 4ms/step - loss: 1.3600 - mae: 1.3600\n",
            "Epoch 89/120\n",
            "2/2 [==============================] - 0s 3ms/step - loss: 1.2328 - mae: 1.2328\n",
            "Epoch 90/120\n",
            "2/2 [==============================] - 0s 2ms/step - loss: 1.1632 - mae: 1.1632\n",
            "Epoch 91/120\n",
            "2/2 [==============================] - 0s 3ms/step - loss: 1.0934 - mae: 1.0934\n",
            "Epoch 92/120\n",
            "2/2 [==============================] - 0s 3ms/step - loss: 1.0293 - mae: 1.0293\n",
            "Epoch 93/120\n",
            "2/2 [==============================] - 0s 2ms/step - loss: 0.9982 - mae: 0.9982\n",
            "Epoch 94/120\n",
            "2/2 [==============================] - 0s 2ms/step - loss: 1.0134 - mae: 1.0134\n",
            "Epoch 95/120\n",
            "2/2 [==============================] - 0s 3ms/step - loss: 0.9070 - mae: 0.9070\n",
            "Epoch 96/120\n",
            "2/2 [==============================] - 0s 4ms/step - loss: 0.8755 - mae: 0.8755\n",
            "Epoch 97/120\n",
            "2/2 [==============================] - 0s 3ms/step - loss: 0.6794 - mae: 0.6794\n",
            "Epoch 98/120\n",
            "2/2 [==============================] - 0s 3ms/step - loss: 0.8182 - mae: 0.8182\n",
            "Epoch 99/120\n",
            "2/2 [==============================] - 0s 3ms/step - loss: 0.6244 - mae: 0.6244\n",
            "Epoch 100/120\n",
            "2/2 [==============================] - 0s 3ms/step - loss: 0.5644 - mae: 0.5644\n",
            "Epoch 101/120\n",
            "2/2 [==============================] - 0s 5ms/step - loss: 0.6583 - mae: 0.6583\n",
            "Epoch 102/120\n",
            "2/2 [==============================] - 0s 4ms/step - loss: 0.3607 - mae: 0.3607\n",
            "Epoch 103/120\n",
            "2/2 [==============================] - 0s 5ms/step - loss: 0.9094 - mae: 0.9094\n",
            "Epoch 104/120\n",
            "2/2 [==============================] - 0s 5ms/step - loss: 0.4707 - mae: 0.4707\n",
            "Epoch 105/120\n",
            "2/2 [==============================] - 0s 4ms/step - loss: 0.5350 - mae: 0.5350\n",
            "Epoch 106/120\n",
            "2/2 [==============================] - 0s 4ms/step - loss: 0.2414 - mae: 0.2414\n",
            "Epoch 107/120\n",
            "2/2 [==============================] - 0s 4ms/step - loss: 0.0410 - mae: 0.0410\n",
            "Epoch 108/120\n",
            "2/2 [==============================] - 0s 5ms/step - loss: 0.2240 - mae: 0.2240\n",
            "Epoch 109/120\n",
            "2/2 [==============================] - 0s 4ms/step - loss: 0.3670 - mae: 0.3670\n",
            "Epoch 110/120\n",
            "2/2 [==============================] - 0s 5ms/step - loss: 0.0781 - mae: 0.0781\n",
            "Epoch 111/120\n",
            "2/2 [==============================] - 0s 5ms/step - loss: 0.1454 - mae: 0.1454\n",
            "Epoch 112/120\n",
            "2/2 [==============================] - 0s 4ms/step - loss: 0.1481 - mae: 0.1481\n",
            "Epoch 113/120\n",
            "2/2 [==============================] - 0s 5ms/step - loss: 0.2508 - mae: 0.2508\n",
            "Epoch 114/120\n",
            "2/2 [==============================] - 0s 5ms/step - loss: 0.1437 - mae: 0.1437\n",
            "Epoch 115/120\n",
            "2/2 [==============================] - 0s 3ms/step - loss: 0.3128 - mae: 0.3128\n",
            "Epoch 116/120\n",
            "2/2 [==============================] - 0s 4ms/step - loss: 0.7707 - mae: 0.7707\n",
            "Epoch 117/120\n",
            "2/2 [==============================] - 0s 3ms/step - loss: 0.7944 - mae: 0.7944\n",
            "Epoch 118/120\n",
            "2/2 [==============================] - 0s 3ms/step - loss: 0.4236 - mae: 0.4236\n",
            "Epoch 119/120\n",
            "2/2 [==============================] - 0s 4ms/step - loss: 0.5200 - mae: 0.5200\n",
            "Epoch 120/120\n",
            "2/2 [==============================] - 0s 5ms/step - loss: 0.6834 - mae: 0.6834\n"
          ]
        },
        {
          "data": {
            "text/plain": [
              "<keras.callbacks.History at 0x7f26d01b8e20>"
            ]
          },
          "execution_count": 14,
          "metadata": {},
          "output_type": "execute_result"
        }
      ],
      "source": [
        "model=tf.keras.Sequential([\n",
        "    tf.keras.layers.Dense(1)\n",
        "])\n",
        "model.compile(loss=tf.keras.losses.mae,optimizer=tf.optimizers.Adam(learning_rate=0.05),metrics=['mae'])\n",
        "model.fit(tf.expand_dims(X_train,axis=-1),y_train,epochs=120)"
      ]
    },
    {
      "cell_type": "code",
      "execution_count": 15,
      "metadata": {
        "colab": {
          "base_uri": "https://localhost:8080/"
        },
        "id": "GR_Fnvg9wuUJ",
        "outputId": "5d9659e3-0ba1-4b61-ff3c-5ffee32f28a0"
      },
      "outputs": [
        {
          "name": "stdout",
          "output_type": "stream",
          "text": [
            "1/1 [==============================] - 0s 52ms/step\n"
          ]
        },
        {
          "data": {
            "text/plain": [
              "array([[27.343235]], dtype=float32)"
            ]
          },
          "execution_count": 15,
          "metadata": {},
          "output_type": "execute_result"
        }
      ],
      "source": [
        "y_pred=model.predict([17.0])\n",
        "y_pred"
      ]
    },
    {
      "cell_type": "code",
      "execution_count": 16,
      "metadata": {
        "colab": {
          "base_uri": "https://localhost:8080/"
        },
        "id": "rlFtMbHqwvYk",
        "outputId": "9d73fe3d-8bcb-4bd7-fa03-38e8e6407fb1"
      },
      "outputs": [
        {
          "name": "stdout",
          "output_type": "stream",
          "text": [
            "Model: \"sequential_2\"\n",
            "_________________________________________________________________\n",
            " Layer (type)                Output Shape              Param #   \n",
            "=================================================================\n",
            " dense_5 (Dense)             (None, 1)                 2         \n",
            "                                                                 \n",
            "=================================================================\n",
            "Total params: 2\n",
            "Trainable params: 2\n",
            "Non-trainable params: 0\n",
            "_________________________________________________________________\n"
          ]
        }
      ],
      "source": [
        "model.summary()"
      ]
    },
    {
      "cell_type": "code",
      "execution_count": 17,
      "metadata": {
        "colab": {
          "base_uri": "https://localhost:8080/",
          "height": 201
        },
        "id": "wdJ7-UrQhsj1",
        "outputId": "040fd502-90ea-4442-c118-2663f25ebbac"
      },
      "outputs": [
        {
          "name": "stdout",
          "output_type": "stream",
          "text": [
            "You must install pydot (`pip install pydot`) and install graphviz (see instructions at https://graphviz.gitlab.io/download/) for plot_model to work.\n"
          ]
        }
      ],
      "source": [
        "from tensorflow.keras.utils import plot_model\n",
        "plot_model(model,show_shapes=True)"
      ]
    },
    {
      "cell_type": "code",
      "execution_count": 18,
      "metadata": {
        "colab": {
          "base_uri": "https://localhost:8080/"
        },
        "id": "DQYa3oi7BU4I",
        "outputId": "c5ae56db-ae65-421f-a0b9-077cf64dcf00"
      },
      "outputs": [
        {
          "name": "stdout",
          "output_type": "stream",
          "text": [
            "1/1 [==============================] - 0s 28ms/step\n"
          ]
        },
        {
          "data": {
            "text/plain": [
              "array([[ 71.38162 ],\n",
              "       [ 75.47822 ],\n",
              "       [ 79.574814],\n",
              "       [ 83.67141 ],\n",
              "       [ 87.768   ],\n",
              "       [ 91.86459 ],\n",
              "       [ 95.96119 ],\n",
              "       [100.057785],\n",
              "       [104.15438 ],\n",
              "       [108.25098 ]], dtype=float32)"
            ]
          },
          "execution_count": 18,
          "metadata": {},
          "output_type": "execute_result"
        }
      ],
      "source": [
        "y_pred=model.predict(X_test)\n",
        "y_pred"
      ]
    },
    {
      "cell_type": "code",
      "execution_count": 19,
      "metadata": {},
      "outputs": [
        {
          "data": {
            "text/plain": [
              "<tf.Tensor: shape=(10,), dtype=int32, numpy=array([60, 64, 68, 72, 76, 80, 84, 88, 92, 96], dtype=int32)>"
            ]
          },
          "execution_count": 19,
          "metadata": {},
          "output_type": "execute_result"
        }
      ],
      "source": [
        "X_test"
      ]
    },
    {
      "cell_type": "code",
      "execution_count": 20,
      "metadata": {
        "colab": {
          "base_uri": "https://localhost:8080/"
        },
        "id": "eXkbkxO0BV0g",
        "outputId": "461173ce-7a65-404d-98aa-e61f84f1c369"
      },
      "outputs": [
        {
          "data": {
            "text/plain": [
              "<tf.Tensor: shape=(10,), dtype=int32, numpy=array([ 70,  74,  78,  82,  86,  90,  94,  98, 102, 106], dtype=int32)>"
            ]
          },
          "execution_count": 20,
          "metadata": {},
          "output_type": "execute_result"
        }
      ],
      "source": [
        "y_test"
      ]
    },
    {
      "cell_type": "code",
      "execution_count": 21,
      "metadata": {
        "id": "fHmbW2drBWZW"
      },
      "outputs": [],
      "source": [
        "def plot_predictions(X_train=X_train,y_train=y_train,X_test=X_test,y_test=y_test,y_pred=y_pred):\n",
        "  plt.figure(figsize=(10,7))\n",
        "  plt.scatter(X_train,y_train,c='b',label='Training Data')\n",
        "  plt.scatter(X_test,y_test,c='g',label='Testing Data')\n",
        "  plt.scatter(X_test,y_pred,c='r',label='Predicted Data')\n",
        "  plt.legend()"
      ]
    },
    {
      "cell_type": "code",
      "execution_count": 22,
      "metadata": {
        "colab": {
          "base_uri": "https://localhost:8080/",
          "height": 428
        },
        "id": "n9H11RGUBW-a",
        "outputId": "16092114-c102-4c69-80c0-4829d5e4c738"
      },
      "outputs": [
        {
          "data": {
            "image/png": "[encoded data removed]",
            "text/plain": [
              "<Figure size 1000x700 with 1 Axes>"
            ]
          },
          "metadata": {},
          "output_type": "display_data"
        }
      ],
      "source": [
        "plot_predictions(X_train,y_train,X_test,y_test,y_pred)"
      ]
    },
    {
      "cell_type": "code",
      "execution_count": 23,
      "metadata": {
        "colab": {
          "base_uri": "https://localhost:8080/"
        },
        "id": "AdWM2hlSBXOt",
        "outputId": "f8ee4835-a41c-4aad-85ed-1b11778001b2"
      },
      "outputs": [
        {
          "data": {
            "text/plain": [
              "(<tf.Tensor: shape=(10,), dtype=int32, numpy=array([ 70,  74,  78,  82,  86,  90,  94,  98, 102, 106], dtype=int32)>,\n",
              " array([[ 71.38162 ],\n",
              "        [ 75.47822 ],\n",
              "        [ 79.574814],\n",
              "        [ 83.67141 ],\n",
              "        [ 87.768   ],\n",
              "        [ 91.86459 ],\n",
              "        [ 95.96119 ],\n",
              "        [100.057785],\n",
              "        [104.15438 ],\n",
              "        [108.25098 ]], dtype=float32))"
            ]
          },
          "execution_count": 23,
          "metadata": {},
          "output_type": "execute_result"
        }
      ],
      "source": [
        "y_test, y_pred"
      ]
    },
    {
      "cell_type": "code",
      "execution_count": 24,
      "metadata": {
        "colab": {
          "base_uri": "https://localhost:8080/"
        },
        "id": "kb4CTP7CBX5T",
        "outputId": "49dfe535-abaa-4974-bb68-0b562f5f33a4"
      },
      "outputs": [
        {
          "data": {
            "text/plain": [
              "<tf.Tensor: shape=(), dtype=float32, numpy=1.8162987>"
            ]
          },
          "execution_count": 24,
          "metadata": {},
          "output_type": "execute_result"
        }
      ],
      "source": [
        "mae=tf.metrics.mean_absolute_error(y_true=y_test,y_pred=tf.squeeze(y_pred))\n",
        "mae"
      ]
    },
    {
      "cell_type": "code",
      "execution_count": 25,
      "metadata": {
        "colab": {
          "base_uri": "https://localhost:8080/"
        },
        "id": "EXpFCXQ1FKuo",
        "outputId": "a24b19c8-39f4-4f60-e7e4-6cb149327856"
      },
      "outputs": [
        {
          "data": {
            "text/plain": [
              "<tf.Tensor: shape=(), dtype=float32, numpy=3.375918>"
            ]
          },
          "execution_count": 25,
          "metadata": {},
          "output_type": "execute_result"
        }
      ],
      "source": [
        "mse=tf.metrics.mean_squared_error(y_true=y_test,y_pred=tf.squeeze(y_pred))\n",
        "mse"
      ]
    },
    {
      "cell_type": "code",
      "execution_count": 26,
      "metadata": {},
      "outputs": [
        {
          "data": {
            "text/plain": [
              "<keras.callbacks.History at 0x7f26b7fa5370>"
            ]
          },
          "execution_count": 26,
          "metadata": {},
          "output_type": "execute_result"
        }
      ],
      "source": [
        "model1=tf.keras.Sequential([\n",
        "    tf.keras.layers.Dense(1,activation='relu')\n",
        "])\n",
        "model1.compile(optimizer=tf.optimizers.Adam(learning_rate=0.0001),loss=tf.keras.losses.mae,metrics=['mae'])\n",
        "model1.fit(tf.expand_dims(X_train,axis=-1),y_train,epochs=100,verbose=False)"
      ]
    },
    {
      "cell_type": "code",
      "execution_count": 27,
      "metadata": {},
      "outputs": [
        {
          "name": "stdout",
          "output_type": "stream",
          "text": [
            "WARNING:tensorflow:5 out of the last 5 calls to <function Model.make_predict_function.<locals>.predict_function at 0x7f26d00cc8b0> triggered tf.function retracing. Tracing is expensive and the excessive number of tracings could be due to (1) creating @tf.function repeatedly in a loop, (2) passing tensors with different shapes, (3) passing Python objects instead of tensors. For (1), please define your @tf.function outside of the loop. For (2), @tf.function has reduce_retracing=True option that can avoid unnecessary retracing. For (3), please refer to https://www.tensorflow.org/guide/function#controlling_retracing and https://www.tensorflow.org/api_docs/python/tf/function for  more details.\n",
            "1/1 [==============================] - 0s 28ms/step\n"
          ]
        },
        {
          "data": {
            "image/png": "[encoded data removed]",
            "text/plain": [
              "<Figure size 1000x700 with 1 Axes>"
            ]
          },
          "metadata": {},
          "output_type": "display_data"
        }
      ],
      "source": [
        "y_preds1=model1.predict(X_test)\n",
        "plot_predictions(y_pred=y_preds1)"
      ]
    },
    {
      "cell_type": "code",
      "execution_count": 28,
      "metadata": {},
      "outputs": [
        {
          "data": {
            "text/plain": [
              "(<tf.Tensor: shape=(), dtype=float32, numpy=88.0>,\n",
              " <tf.Tensor: shape=(), dtype=float32, numpy=7876.0>)"
            ]
          },
          "execution_count": 28,
          "metadata": {},
          "output_type": "execute_result"
        }
      ],
      "source": [
        "mae1=tf.metrics.mae(y_test,tf.squeeze(y_preds1))\n",
        "mse1=tf.metrics.mse(y_test,tf.squeeze(y_preds1))\n",
        "mae1,mse1"
      ]
    },
    {
      "cell_type": "code",
      "execution_count": null,
      "metadata": {},
      "outputs": [],
      "source": []
    },
    {
      "cell_type": "code",
      "execution_count": null,
      "metadata": {},
      "outputs": [],
      "source": []
    },
    {
      "cell_type": "code",
      "execution_count": null,
      "metadata": {},
      "outputs": [],
      "source": []
    },
    {
      "cell_type": "code",
      "execution_count": null,
      "metadata": {},
      "outputs": [],
      "source": []
    }
  ],
  "metadata": {
    "accelerator": "GPU",
    "colab": {
      "provenance": []
    },
    "gpuClass": "standard",
    "kernelspec": {
      "display_name": "tf",
      "language": "python",
      "name": "python3"
    },
    "language_info": {
      "codemirror_mode": {
        "name": "ipython",
        "version": 3
      },
      "file_extension": ".py",
      "mimetype": "text/x-python",
      "name": "python",
      "nbconvert_exporter": "python",
      "pygments_lexer": "ipython3",
      "version": "3.9.12"
    },
    "orig_nbformat": 4,
    "vscode": {
      "interpreter": {
        "hash": "6cb838b7435325138ffd08367ae91647082a89cf52751382b8383b0861b4cf2c"
      }
    }
  },
  "nbformat": 4,
  "nbformat_minor": 0
}
