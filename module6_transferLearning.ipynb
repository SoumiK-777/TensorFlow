{
 "cells": [
  {
   "cell_type": "code",
   "execution_count": 4,
   "metadata": {},
   "outputs": [],
   "source": [
    "# import zipfile\n",
    "# !wget https://storage.googleapis.com/ztm_tf_course/food_vision/10_food_classes_10_percent.zip\n",
    "# zipref=zipfile.ZipFile(\"10_food_classes_10_percent.zip\")\n",
    "# zipref.extractall()\n",
    "# zipref.close()"
   ]
  },
  {
   "cell_type": "code",
   "execution_count": 5,
   "metadata": {},
   "outputs": [
    {
     "name": "stdout",
     "output_type": "stream",
     "text": [
      "There are 2 directories, 0 images in 10_food_classes_10_percent.\n",
      "There are 10 directories, 0 images in 10_food_classes_10_percent/train.\n",
      "There are 0 directories, 75 images in 10_food_classes_10_percent/train/chicken_wings.\n",
      "There are 0 directories, 75 images in 10_food_classes_10_percent/train/fried_rice.\n",
      "There are 0 directories, 75 images in 10_food_classes_10_percent/train/steak.\n",
      "There are 0 directories, 75 images in 10_food_classes_10_percent/train/hamburger.\n",
      "There are 0 directories, 75 images in 10_food_classes_10_percent/train/ramen.\n",
      "There are 0 directories, 75 images in 10_food_classes_10_percent/train/chicken_curry.\n",
      "There are 0 directories, 75 images in 10_food_classes_10_percent/train/sushi.\n",
      "There are 0 directories, 75 images in 10_food_classes_10_percent/train/pizza.\n",
      "There are 0 directories, 75 images in 10_food_classes_10_percent/train/ice_cream.\n",
      "There are 0 directories, 75 images in 10_food_classes_10_percent/train/grilled_salmon.\n",
      "There are 10 directories, 0 images in 10_food_classes_10_percent/test.\n",
      "There are 0 directories, 250 images in 10_food_classes_10_percent/test/chicken_wings.\n",
      "There are 0 directories, 250 images in 10_food_classes_10_percent/test/fried_rice.\n",
      "There are 0 directories, 250 images in 10_food_classes_10_percent/test/steak.\n",
      "There are 0 directories, 250 images in 10_food_classes_10_percent/test/hamburger.\n",
      "There are 0 directories, 250 images in 10_food_classes_10_percent/test/ramen.\n",
      "There are 0 directories, 250 images in 10_food_classes_10_percent/test/chicken_curry.\n",
      "There are 0 directories, 250 images in 10_food_classes_10_percent/test/sushi.\n",
      "There are 0 directories, 250 images in 10_food_classes_10_percent/test/pizza.\n",
      "There are 0 directories, 250 images in 10_food_classes_10_percent/test/ice_cream.\n",
      "There are 0 directories, 250 images in 10_food_classes_10_percent/test/grilled_salmon.\n"
     ]
    }
   ],
   "source": [
    "import os\n",
    "\n",
    "for dirpath, dirnames, filenames in os.walk(\"10_food_classes_10_percent\"):\n",
    "    print(f\"There are {len(dirnames)} directories, {len(filenames)} images in {dirpath}.\")"
   ]
  },
  {
   "cell_type": "code",
   "execution_count": 6,
   "metadata": {},
   "outputs": [
    {
     "name": "stderr",
     "output_type": "stream",
     "text": [
      "2023-06-14 21:49:26.751432: I tensorflow/core/platform/cpu_feature_guard.cc:193] This TensorFlow binary is optimized with oneAPI Deep Neural Network Library (oneDNN) to use the following CPU instructions in performance-critical operations:  AVX2 FMA\n",
      "To enable them in other operations, rebuild TensorFlow with the appropriate compiler flags.\n",
      "2023-06-14 21:49:28.406266: W tensorflow/compiler/xla/stream_executor/platform/default/dso_loader.cc:64] Could not load dynamic library 'libnvinfer.so.7'; dlerror: libnvinfer.so.7: cannot open shared object file: No such file or directory; LD_LIBRARY_PATH: :/home/soumik/anaconda3/pkgs/cuda-nvcc\n",
      "2023-06-14 21:49:28.406405: W tensorflow/compiler/xla/stream_executor/platform/default/dso_loader.cc:64] Could not load dynamic library 'libnvinfer_plugin.so.7'; dlerror: libnvinfer_plugin.so.7: cannot open shared object file: No such file or directory; LD_LIBRARY_PATH: :/home/soumik/anaconda3/pkgs/cuda-nvcc\n",
      "2023-06-14 21:49:28.406415: W tensorflow/compiler/tf2tensorrt/utils/py_utils.cc:38] TF-TRT Warning: Cannot dlopen some TensorRT libraries. If you would like to use Nvidia GPU with TensorRT, please make sure the missing libraries mentioned above are installed properly.\n"
     ]
    }
   ],
   "source": [
    "import tensorflow as tf\n",
    "from tensorflow.python import keras\n",
    "from keras.preprocessing.image import ImageDataGenerator\n",
    "import numpy as np\n",
    "import matplotlib.pyplot as plt\n",
    "%matplotlib inline"
   ]
  },
  {
   "cell_type": "code",
   "execution_count": 7,
   "metadata": {},
   "outputs": [
    {
     "name": "stdout",
     "output_type": "stream",
     "text": [
      "Train Data:\n",
      "Found 750 images belonging to 10 classes.\n",
      "Test Data:\n",
      "Found 2500 images belonging to 10 classes.\n"
     ]
    }
   ],
   "source": [
    "IMAGE_SHAPE=(224,224)\n",
    "BATCH_SIZE=32\n",
    "\n",
    "train_dir=\"10_food_classes_10_percent/train/\"\n",
    "test_dir=\"10_food_classes_10_percent/test/\"\n",
    "\n",
    "train_datagen=ImageDataGenerator(rescale=1/255.)\n",
    "test_datagen=ImageDataGenerator(rescale=1/225.)\n",
    "\n",
    "print(\"Train Data:\")\n",
    "train_data=train_datagen.flow_from_directory(train_dir,target_size=IMAGE_SHAPE,\n",
    "                                            batch_size=BATCH_SIZE,class_mode=\"categorical\")\n",
    "\n",
    "print(\"Test Data:\")\n",
    "test_data=test_datagen.flow_from_directory(test_dir,target_size=IMAGE_SHAPE,\n",
    "                                            batch_size=BATCH_SIZE,class_mode=\"categorical\")\n"
   ]
  },
  {
   "cell_type": "code",
   "execution_count": 8,
   "metadata": {},
   "outputs": [],
   "source": [
    "#Callbacks are extra functionality we can add to our models\n",
    "\n",
    "import datetime\n",
    "\n",
    "def create_tensorboard_callback(dir_name,exp_name):\n",
    "    log_dir=dir_name+\"/\"+exp_name+\"/\"+datetime.datetime.now().strftime(\"%Y%m%d-%H%M%S\")\n",
    "    tensorboard_callback=tf.keras.callbacks.TensorBoard(log_dir=log_dir)\n",
    "    print(f\"Saving TensorBoard log files to: {log_dir}\")\n",
    "    return tensorboard_callback"
   ]
  },
  {
   "cell_type": "code",
   "execution_count": 9,
   "metadata": {},
   "outputs": [],
   "source": [
    "# We can access pre-trained models at https://tfhub.dev/\n",
    "\n",
    "resnet_url=\"https://tfhub.dev/google/imagenet/resnet_v2_152/feature_vector/5\"\n",
    "efficientnet_url=\"https://tfhub.dev/google/efficientnet/b2/feature-vector/1\""
   ]
  },
  {
   "cell_type": "code",
   "execution_count": 10,
   "metadata": {},
   "outputs": [],
   "source": [
    "import tensorflow_hub as hub\n",
    "from keras import layers"
   ]
  },
  {
   "cell_type": "code",
   "execution_count": 11,
   "metadata": {},
   "outputs": [],
   "source": [
    "def create_model(model_url,num_classes=10):\n",
    "    features_extractor=hub.KerasLayer(model_url,trainable=False,\n",
    "                                    name=\"feature_extractor\",input_shape=IMAGE_SHAPE+(3,))\n",
    "    model=tf.keras.Sequential([\n",
    "        features_extractor,\n",
    "        layers.Dense(num_classes,activation=\"softmax\",name=\"output_layer\")\n",
    "    ])\n",
    "    return model"
   ]
  },
  {
   "cell_type": "code",
   "execution_count": 12,
   "metadata": {},
   "outputs": [
    {
     "name": "stderr",
     "output_type": "stream",
     "text": [
      "2023-06-14 21:49:32.128790: I tensorflow/compiler/xla/stream_executor/cuda/cuda_gpu_executor.cc:981] successful NUMA node read from SysFS had negative value (-1), but there must be at least one NUMA node, so returning NUMA node zero\n",
      "2023-06-14 21:49:32.205031: I tensorflow/compiler/xla/stream_executor/cuda/cuda_gpu_executor.cc:981] successful NUMA node read from SysFS had negative value (-1), but there must be at least one NUMA node, so returning NUMA node zero\n",
      "2023-06-14 21:49:32.205296: I tensorflow/compiler/xla/stream_executor/cuda/cuda_gpu_executor.cc:981] successful NUMA node read from SysFS had negative value (-1), but there must be at least one NUMA node, so returning NUMA node zero\n",
      "2023-06-14 21:49:32.206260: I tensorflow/core/platform/cpu_feature_guard.cc:193] This TensorFlow binary is optimized with oneAPI Deep Neural Network Library (oneDNN) to use the following CPU instructions in performance-critical operations:  AVX2 FMA\n",
      "To enable them in other operations, rebuild TensorFlow with the appropriate compiler flags.\n",
      "2023-06-14 21:49:32.207372: I tensorflow/compiler/xla/stream_executor/cuda/cuda_gpu_executor.cc:981] successful NUMA node read from SysFS had negative value (-1), but there must be at least one NUMA node, so returning NUMA node zero\n",
      "2023-06-14 21:49:32.207692: I tensorflow/compiler/xla/stream_executor/cuda/cuda_gpu_executor.cc:981] successful NUMA node read from SysFS had negative value (-1), but there must be at least one NUMA node, so returning NUMA node zero\n",
      "2023-06-14 21:49:32.207890: I tensorflow/compiler/xla/stream_executor/cuda/cuda_gpu_executor.cc:981] successful NUMA node read from SysFS had negative value (-1), but there must be at least one NUMA node, so returning NUMA node zero\n",
      "2023-06-14 21:49:33.309457: I tensorflow/compiler/xla/stream_executor/cuda/cuda_gpu_executor.cc:981] successful NUMA node read from SysFS had negative value (-1), but there must be at least one NUMA node, so returning NUMA node zero\n",
      "2023-06-14 21:49:33.309995: I tensorflow/compiler/xla/stream_executor/cuda/cuda_gpu_executor.cc:981] successful NUMA node read from SysFS had negative value (-1), but there must be at least one NUMA node, so returning NUMA node zero\n",
      "2023-06-14 21:49:33.310126: I tensorflow/compiler/xla/stream_executor/cuda/cuda_gpu_executor.cc:981] successful NUMA node read from SysFS had negative value (-1), but there must be at least one NUMA node, so returning NUMA node zero\n",
      "2023-06-14 21:49:33.310240: I tensorflow/core/common_runtime/gpu/gpu_device.cc:1613] Created device /job:localhost/replica:0/task:0/device:GPU:0 with 2631 MB memory:  -> device: 0, name: NVIDIA GeForce GTX 1650, pci bus id: 0000:01:00.0, compute capability: 7.5\n"
     ]
    },
    {
     "name": "stdout",
     "output_type": "stream",
     "text": [
      "WARNING:tensorflow:From /home/soumik/anaconda3/envs/tf/lib/python3.9/site-packages/tensorflow/python/autograph/pyct/static_analysis/liveness.py:83: Analyzer.lamba_check (from tensorflow.python.autograph.pyct.static_analysis.liveness) is deprecated and will be removed after 2023-09-23.\n",
      "Instructions for updating:\n",
      "Lambda fuctions will be no more assumed to be used in the statement where they are used, or at least in the same block. https://github.com/tensorflow/tensorflow/issues/56089\n"
     ]
    },
    {
     "name": "stderr",
     "output_type": "stream",
     "text": [
      "WARNING:tensorflow:From /home/soumik/anaconda3/envs/tf/lib/python3.9/site-packages/tensorflow/python/autograph/pyct/static_analysis/liveness.py:83: Analyzer.lamba_check (from tensorflow.python.autograph.pyct.static_analysis.liveness) is deprecated and will be removed after 2023-09-23.\n",
      "Instructions for updating:\n",
      "Lambda fuctions will be no more assumed to be used in the statement where they are used, or at least in the same block. https://github.com/tensorflow/tensorflow/issues/56089\n"
     ]
    },
    {
     "data": {
      "text/plain": [
       "<keras.engine.sequential.Sequential at 0x7f1bb9226c40>"
      ]
     },
     "execution_count": 12,
     "metadata": {},
     "output_type": "execute_result"
    }
   ],
   "source": [
    "#EfficientNet model is better (believe me!)\n",
    "\n",
    "model=create_model(efficientnet_url)\n",
    "model"
   ]
  },
  {
   "cell_type": "code",
   "execution_count": 13,
   "metadata": {},
   "outputs": [
    {
     "name": "stdout",
     "output_type": "stream",
     "text": [
      "Model: \"sequential\"\n",
      "_________________________________________________________________\n",
      " Layer (type)                Output Shape              Param #   \n",
      "=================================================================\n",
      " feature_extractor (KerasLay  (None, 1408)             7768562   \n",
      " er)                                                             \n",
      "                                                                 \n",
      " output_layer (Dense)        (None, 10)                14090     \n",
      "                                                                 \n",
      "=================================================================\n",
      "Total params: 7,782,652\n",
      "Trainable params: 14,090\n",
      "Non-trainable params: 7,768,562\n",
      "_________________________________________________________________\n"
     ]
    }
   ],
   "source": [
    "model.summary()"
   ]
  },
  {
   "cell_type": "code",
   "execution_count": 14,
   "metadata": {},
   "outputs": [],
   "source": [
    "model.compile(loss=tf.keras.losses.CategoricalCrossentropy(),metrics=[\"accuracy\"],\n",
    "            optimizer=tf.keras.optimizers.Adam())"
   ]
  },
  {
   "cell_type": "code",
   "execution_count": 17,
   "metadata": {},
   "outputs": [
    {
     "name": "stdout",
     "output_type": "stream",
     "text": [
      "Saving TensorBoard log files to: tensorflow_hub/efficient_net/20230614-220002\n",
      "Epoch 1/10\n",
      "24/24 [==============================] - 13s 565ms/step - loss: 0.4241 - accuracy: 0.9187 - val_loss: 0.5264 - val_accuracy: 0.8584\n",
      "Epoch 2/10\n",
      "24/24 [==============================] - 16s 670ms/step - loss: 0.3739 - accuracy: 0.9280 - val_loss: 0.5042 - val_accuracy: 0.8588\n",
      "Epoch 3/10\n",
      "24/24 [==============================] - 13s 565ms/step - loss: 0.3346 - accuracy: 0.9427 - val_loss: 0.4858 - val_accuracy: 0.8604\n",
      "Epoch 4/10\n",
      "24/24 [==============================] - 13s 556ms/step - loss: 0.3021 - accuracy: 0.9467 - val_loss: 0.4765 - val_accuracy: 0.8632\n",
      "Epoch 5/10\n",
      "24/24 [==============================] - 13s 559ms/step - loss: 0.2696 - accuracy: 0.9613 - val_loss: 0.4668 - val_accuracy: 0.8604\n",
      "Epoch 6/10\n",
      "24/24 [==============================] - 13s 559ms/step - loss: 0.2450 - accuracy: 0.9667 - val_loss: 0.4580 - val_accuracy: 0.8644\n",
      "Epoch 7/10\n",
      "24/24 [==============================] - 13s 557ms/step - loss: 0.2241 - accuracy: 0.9680 - val_loss: 0.4527 - val_accuracy: 0.8656\n",
      "Epoch 8/10\n",
      "24/24 [==============================] - 13s 564ms/step - loss: 0.2057 - accuracy: 0.9720 - val_loss: 0.4461 - val_accuracy: 0.8668\n",
      "Epoch 9/10\n",
      "24/24 [==============================] - 14s 603ms/step - loss: 0.1891 - accuracy: 0.9747 - val_loss: 0.4424 - val_accuracy: 0.8640\n",
      "Epoch 10/10\n",
      "24/24 [==============================] - 13s 567ms/step - loss: 0.1737 - accuracy: 0.9800 - val_loss: 0.4391 - val_accuracy: 0.8648\n"
     ]
    }
   ],
   "source": [
    "history=model.fit(train_data,epochs=10,steps_per_epoch=len(train_data),\n",
    "        validation_data=test_data,validation_steps=len(test_data),\n",
    "        callbacks=[create_tensorboard_callback(dir_name=\"tensorflow_hub\",exp_name=\"efficient_net\")])"
   ]
  },
  {
   "cell_type": "code",
   "execution_count": 16,
   "metadata": {},
   "outputs": [],
   "source": [
    "def plot_loss_curves(history):\n",
    "    train_loss=history.history[\"loss\"]\n",
    "    accuracy=history.history[\"accuracy\"]\n",
    "    val_loss=history.history[\"val_loss\"]\n",
    "    val_accuracy=history.history[\"val_accuracy\"]\n",
    "    epochs=range(len(history.history[\"loss\"]))\n",
    "\n",
    "    plt.plot(epochs,train_loss,label=\"training_loss\")\n",
    "    # plt.subplot(1,4,2)\n",
    "    plt.plot(epochs,val_loss,label=\"val_loss\")\n",
    "    plt.title(\"loss\")\n",
    "    plt.xlabel(\"epochs\")\n",
    "    plt.legend()\n",
    "\n",
    "    plt.plot(epochs,accuracy,label=\"train_accuracy\")\n",
    "    # plt.subplot(1,4,4)\n",
    "    plt.plot(epochs,val_accuracy,label=\"val_accuracy\")\n",
    "    plt.title(\"accuracy\")\n",
    "    plt.xlabel(\"epochs\")\n",
    "    plt.legend()\n",
    "    plt.show()"
   ]
  },
  {
   "cell_type": "code",
   "execution_count": 18,
   "metadata": {},
   "outputs": [
    {
     "data": {
      "image/png": "[encoded data removed]",
      "text/plain": [
       "<Figure size 640x480 with 1 Axes>"
      ]
     },
     "metadata": {},
     "output_type": "display_data"
    }
   ],
   "source": [
    "plot_loss_curves(history)"
   ]
  },
  {
   "cell_type": "code",
   "execution_count": 20,
   "metadata": {},
   "outputs": [
    {
     "name": "stdout",
     "output_type": "stream",
     "text": [
      "2023-06-14 22:06:29.837702: I tensorflow/core/platform/cpu_feature_guard.cc:193] This TensorFlow binary is optimized with oneAPI Deep Neural Network Library (oneDNN) to use the following CPU instructions in performance-critical operations:  AVX2 FMA\n",
      "To enable them in other operations, rebuild TensorFlow with the appropriate compiler flags.\n",
      "2023-06-14 22:06:30.503305: W tensorflow/compiler/xla/stream_executor/platform/default/dso_loader.cc:64] Could not load dynamic library 'libnvinfer.so.7'; dlerror: libnvinfer.so.7: cannot open shared object file: No such file or directory; LD_LIBRARY_PATH: :/home/soumik/anaconda3/pkgs/cuda-nvcc\n",
      "2023-06-14 22:06:30.503367: W tensorflow/compiler/xla/stream_executor/platform/default/dso_loader.cc:64] Could not load dynamic library 'libnvinfer_plugin.so.7'; dlerror: libnvinfer_plugin.so.7: cannot open shared object file: No such file or directory; LD_LIBRARY_PATH: :/home/soumik/anaconda3/pkgs/cuda-nvcc\n",
      "2023-06-14 22:06:30.503375: W tensorflow/compiler/tf2tensorrt/utils/py_utils.cc:38] TF-TRT Warning: Cannot dlopen some TensorRT libraries. If you would like to use Nvidia GPU with TensorRT, please make sure the missing libraries mentioned above are installed properly.\n",
      "2023-06-14 22:06:31.254972: I tensorflow/compiler/xla/stream_executor/cuda/cuda_gpu_executor.cc:981] successful NUMA node read from SysFS had negative value (-1), but there must be at least one NUMA node, so returning NUMA node zero\n",
      "2023-06-14 22:06:31.322987: I tensorflow/compiler/xla/stream_executor/cuda/cuda_gpu_executor.cc:981] successful NUMA node read from SysFS had negative value (-1), but there must be at least one NUMA node, so returning NUMA node zero\n",
      "2023-06-14 22:06:31.323197: I tensorflow/compiler/xla/stream_executor/cuda/cuda_gpu_executor.cc:981] successful NUMA node read from SysFS had negative value (-1), but there must be at least one NUMA node, so returning NUMA node zero\n",
      "\n",
      "***** TensorBoard Uploader *****\n",
      "\n",
      "This will upload your TensorBoard logs to https://tensorboard.dev/ from\n",
      "the following directory:\n",
      "\n",
      "./tensorflow_hub\n",
      "\n",
      "This TensorBoard will be visible to everyone. Do not upload sensitive\n",
      "data.\n",
      "\n",
      "Your use of this service is subject to Google's Terms of Service\n",
      "<https://policies.google.com/terms> and Privacy Policy\n",
      "<https://policies.google.com/privacy>, and TensorBoard.dev's Terms of Service\n",
      "<https://tensorboard.dev/policy/terms/>.\n",
      "\n",
      "This notice will not be shown again while you are logged into the uploader.\n",
      "To log out, run `tensorboard dev auth revoke`.\n",
      "\n",
      "Continue? (yes/NO) ^C\n",
      "Traceback (most recent call last):\n",
      "  File \"/home/soumik/anaconda3/envs/tf/bin/tensorboard\", line 8, in <module>\n",
      "    sys.exit(run_main())\n",
      "  File \"/home/soumik/anaconda3/envs/tf/lib/python3.9/site-packages/tensorboard/main.py\", line 46, in run_main\n",
      "    app.run(tensorboard.main, flags_parser=tensorboard.configure)\n",
      "  File \"/home/soumik/anaconda3/envs/tf/lib/python3.9/site-packages/absl/app.py\", line 308, in run\n",
      "    _run_main(main, args)\n",
      "  File \"/home/soumik/anaconda3/envs/tf/lib/python3.9/site-packages/absl/app.py\", line 254, in _run_main\n",
      "    sys.exit(main(argv))\n",
      "  File \"/home/soumik/anaconda3/envs/tf/lib/python3.9/site-packages/tensorboard/program.py\", line 276, in main\n",
      "    return runner(self.flags) or 0\n",
      "  File \"/home/soumik/anaconda3/envs/tf/lib/python3.9/site-packages/tensorboard/uploader/uploader_subcommand.py\", line 691, in run\n",
      "    return _run(flags, self._experiment_url_callback)\n",
      "  File \"/home/soumik/anaconda3/envs/tf/lib/python3.9/site-packages/tensorboard/uploader/uploader_subcommand.py\", line 93, in _run\n",
      "    _prompt_for_user_ack(intent)\n",
      "  File \"/home/soumik/anaconda3/envs/tf/lib/python3.9/site-packages/tensorboard/uploader/uploader_subcommand.py\", line 66, in _prompt_for_user_ack\n",
      "    response = input(\"Continue? (yes/NO) \")\n",
      "KeyboardInterrupt\n"
     ]
    }
   ],
   "source": [
    "# Run in terminal\n",
    "# tensorboard dev upload --logdir ./tensorflow_hub \\\n",
    "# --name \"efficientnet\" \\\n",
    "# --description \"analyzing model's performance\" \\\n",
    "# --one_shot"
   ]
  },
  {
   "cell_type": "code",
   "execution_count": 22,
   "metadata": {},
   "outputs": [
    {
     "name": "stdout",
     "output_type": "stream",
     "text": [
      "2023-06-14 22:13:10.616933: I tensorflow/core/platform/cpu_feature_guard.cc:193] This TensorFlow binary is optimized with oneAPI Deep Neural Network Library (oneDNN) to use the following CPU instructions in performance-critical operations:  AVX2 FMA\n",
      "To enable them in other operations, rebuild TensorFlow with the appropriate compiler flags.\n",
      "2023-06-14 22:13:11.364233: W tensorflow/compiler/xla/stream_executor/platform/default/dso_loader.cc:64] Could not load dynamic library 'libnvinfer.so.7'; dlerror: libnvinfer.so.7: cannot open shared object file: No such file or directory; LD_LIBRARY_PATH: :/home/soumik/anaconda3/pkgs/cuda-nvcc\n",
      "2023-06-14 22:13:11.364292: W tensorflow/compiler/xla/stream_executor/platform/default/dso_loader.cc:64] Could not load dynamic library 'libnvinfer_plugin.so.7'; dlerror: libnvinfer_plugin.so.7: cannot open shared object file: No such file or directory; LD_LIBRARY_PATH: :/home/soumik/anaconda3/pkgs/cuda-nvcc\n",
      "2023-06-14 22:13:11.364300: W tensorflow/compiler/tf2tensorrt/utils/py_utils.cc:38] TF-TRT Warning: Cannot dlopen some TensorRT libraries. If you would like to use Nvidia GPU with TensorRT, please make sure the missing libraries mentioned above are installed properly.\n",
      "2023-06-14 22:13:12.113683: I tensorflow/compiler/xla/stream_executor/cuda/cuda_gpu_executor.cc:981] successful NUMA node read from SysFS had negative value (-1), but there must be at least one NUMA node, so returning NUMA node zero\n",
      "2023-06-14 22:13:12.138544: I tensorflow/compiler/xla/stream_executor/cuda/cuda_gpu_executor.cc:981] successful NUMA node read from SysFS had negative value (-1), but there must be at least one NUMA node, so returning NUMA node zero\n",
      "2023-06-14 22:13:12.138755: I tensorflow/compiler/xla/stream_executor/cuda/cuda_gpu_executor.cc:981] successful NUMA node read from SysFS had negative value (-1), but there must be at least one NUMA node, so returning NUMA node zero\n",
      "https://tensorboard.dev/experiment/w4JEOQ2cQxiZFXvRjO32Xw/\n",
      "\tName                 efficientnet\n",
      "\tDescription          analyzing model's performance\n",
      "\tId                   w4JEOQ2cQxiZFXvRjO32Xw\n",
      "\tCreated              2023-06-14 22:08:06 (5 minutes ago)\n",
      "\tUpdated              2023-06-14 22:08:12 (5 minutes ago)\n",
      "\tRuns                 6\n",
      "\tTags                 5\n",
      "\tScalars              102\n",
      "\tTensor bytes         0\n",
      "\tBinary object bytes  5980073\n",
      "Total: 1 experiment(s)\n"
     ]
    }
   ],
   "source": [
    "!tensorboard dev list"
   ]
  },
  {
   "cell_type": "code",
   "execution_count": null,
   "metadata": {},
   "outputs": [],
   "source": []
  },
  {
   "cell_type": "code",
   "execution_count": null,
   "metadata": {},
   "outputs": [],
   "source": []
  }
 ],
 "metadata": {
  "kernelspec": {
   "display_name": "tf",
   "language": "python",
   "name": "python3"
  },
  "language_info": {
   "codemirror_mode": {
    "name": "ipython",
    "version": 3
   },
   "file_extension": ".py",
   "mimetype": "text/x-python",
   "name": "python",
   "nbconvert_exporter": "python",
   "pygments_lexer": "ipython3",
   "version": "3.9.12"
  },
  "orig_nbformat": 4,
  "vscode": {
   "interpreter": {
    "hash": "6cb838b7435325138ffd08367ae91647082a89cf52751382b8383b0861b4cf2c"
   }
  }
 },
 "nbformat": 4,
 "nbformat_minor": 2
}
